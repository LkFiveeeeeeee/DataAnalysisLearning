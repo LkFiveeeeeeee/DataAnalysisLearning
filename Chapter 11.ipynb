{
 "cells": [
  {
   "cell_type": "code",
   "execution_count": 2,
   "metadata": {},
   "outputs": [],
   "source": [
    "# 时间序列 time series\n",
    "# 是一种重要的结构化数据形式"
   ]
  },
  {
   "cell_type": "code",
   "execution_count": 3,
   "metadata": {},
   "outputs": [],
   "source": [
    "# 时间序列数据的意义取决于具体的应用场景\n",
    "# 主要为以下几种:\n",
    "# 时间戳(timestamp) 特定的时刻\n",
    "# 固定时期(period) 如2007年1月或2010年全年\n",
    "# 时间间隔(interval) 由起始和结束时间戳表示\n",
    "#    时期(period)可以被看做间隔(interval)的特例\n",
    "# 实验或过程时间\n",
    "# 每个时间点都是相对于特定起始时间的一个度量\n",
    "# 例如,自放入烤箱时起,每秒钟饼干的直径"
   ]
  },
  {
   "cell_type": "code",
   "execution_count": 4,
   "metadata": {},
   "outputs": [],
   "source": [
    "# 日期和时间数据类型及工具\n",
    "# Python标准库包含用于日期和时间数据的数据类型\n",
    "# 还有日历方面的功能\n",
    "# 我们主要会用到datetime、time以及calendar"
   ]
  },
  {
   "cell_type": "code",
   "execution_count": 1,
   "metadata": {},
   "outputs": [],
   "source": [
    "from datetime import datetime\n",
    "from datetime import timedelta\n",
    "import pandas as pd\n",
    "import numpy as np"
   ]
  },
  {
   "cell_type": "code",
   "execution_count": 6,
   "metadata": {},
   "outputs": [],
   "source": [
    "now = datetime.now()"
   ]
  },
  {
   "cell_type": "code",
   "execution_count": 7,
   "metadata": {},
   "outputs": [
    {
     "data": {
      "text/plain": [
       "datetime.datetime(2019, 2, 10, 11, 13, 47, 286046)"
      ]
     },
     "execution_count": 7,
     "metadata": {},
     "output_type": "execute_result"
    }
   ],
   "source": [
    "now"
   ]
  },
  {
   "cell_type": "code",
   "execution_count": 8,
   "metadata": {},
   "outputs": [
    {
     "data": {
      "text/plain": [
       "(2019, 2, 10)"
      ]
     },
     "execution_count": 8,
     "metadata": {},
     "output_type": "execute_result"
    }
   ],
   "source": [
    "now.year,now.month,now.day"
   ]
  },
  {
   "cell_type": "code",
   "execution_count": 9,
   "metadata": {},
   "outputs": [],
   "source": [
    "# datetime以毫秒形式存储日期和时间\n",
    "# timedelta表示两个datetime对象之间的时间差\n",
    "delta = datetime(2011,1,7) - datetime(2008,6,24,8,15)"
   ]
  },
  {
   "cell_type": "code",
   "execution_count": 10,
   "metadata": {},
   "outputs": [
    {
     "data": {
      "text/plain": [
       "datetime.timedelta(days=926, seconds=56700)"
      ]
     },
     "execution_count": 10,
     "metadata": {},
     "output_type": "execute_result"
    }
   ],
   "source": [
    "delta"
   ]
  },
  {
   "cell_type": "code",
   "execution_count": 13,
   "metadata": {},
   "outputs": [
    {
     "data": {
      "text/plain": [
       "datetime.datetime(2011, 1, 19, 0, 0)"
      ]
     },
     "execution_count": 13,
     "metadata": {},
     "output_type": "execute_result"
    }
   ],
   "source": [
    "# 可以给datetime对象加上或减去一个或多个timedelta\n",
    "start = datetime(2011,1,7)\n",
    "start + timedelta(12)"
   ]
  },
  {
   "cell_type": "code",
   "execution_count": 14,
   "metadata": {},
   "outputs": [
    {
     "data": {
      "text/plain": [
       "datetime.datetime(2011, 1, 7, 0, 0)"
      ]
     },
     "execution_count": 14,
     "metadata": {},
     "output_type": "execute_result"
    }
   ],
   "source": [
    "start"
   ]
  },
  {
   "cell_type": "code",
   "execution_count": 15,
   "metadata": {},
   "outputs": [
    {
     "data": {
      "text/plain": [
       "datetime.datetime(2010, 12, 14, 0, 0)"
      ]
     },
     "execution_count": 15,
     "metadata": {},
     "output_type": "execute_result"
    }
   ],
   "source": [
    "start - 2 * timedelta(12)"
   ]
  },
  {
   "cell_type": "code",
   "execution_count": 16,
   "metadata": {},
   "outputs": [
    {
     "data": {
      "text/plain": [
       "'2011-01-03 00:00:00'"
      ]
     },
     "execution_count": 16,
     "metadata": {},
     "output_type": "execute_result"
    }
   ],
   "source": [
    "# 字符串和datetime相互转换\n",
    "\n",
    "stamp = datetime(2011,1,3)\n",
    "str(stamp)"
   ]
  },
  {
   "cell_type": "code",
   "execution_count": 18,
   "metadata": {},
   "outputs": [
    {
     "data": {
      "text/plain": [
       "'2011-01-03'"
      ]
     },
     "execution_count": 18,
     "metadata": {},
     "output_type": "execute_result"
    }
   ],
   "source": [
    "stamp.strftime('%Y-%m-%d')"
   ]
  },
  {
   "cell_type": "code",
   "execution_count": 19,
   "metadata": {},
   "outputs": [
    {
     "data": {
      "text/plain": [
       "datetime.datetime(2011, 1, 3, 0, 0)"
      ]
     },
     "execution_count": 19,
     "metadata": {},
     "output_type": "execute_result"
    }
   ],
   "source": [
    "value = '2011-01-03'\n",
    "datetime.strptime(value,'%Y-%m-%d')"
   ]
  },
  {
   "cell_type": "code",
   "execution_count": 20,
   "metadata": {},
   "outputs": [],
   "source": [
    "datestrs = ['7/6/2011','8/6/2011']"
   ]
  },
  {
   "cell_type": "code",
   "execution_count": 21,
   "metadata": {},
   "outputs": [
    {
     "data": {
      "text/plain": [
       "[datetime.datetime(2011, 7, 6, 0, 0), datetime.datetime(2011, 8, 6, 0, 0)]"
      ]
     },
     "execution_count": 21,
     "metadata": {},
     "output_type": "execute_result"
    }
   ],
   "source": [
    "[datetime.strptime(x,'%m/%d/%Y') for x in datestrs]"
   ]
  },
  {
   "cell_type": "code",
   "execution_count": 22,
   "metadata": {},
   "outputs": [],
   "source": [
    "# 可以使用dateutil中的parser.parse方法对日期格式进行解析"
   ]
  },
  {
   "cell_type": "code",
   "execution_count": 23,
   "metadata": {},
   "outputs": [],
   "source": [
    "from dateutil.parser import parse"
   ]
  },
  {
   "cell_type": "code",
   "execution_count": 24,
   "metadata": {},
   "outputs": [
    {
     "data": {
      "text/plain": [
       "datetime.datetime(2011, 1, 3, 0, 0)"
      ]
     },
     "execution_count": 24,
     "metadata": {},
     "output_type": "execute_result"
    }
   ],
   "source": [
    "parse('2011-01-03')"
   ]
  },
  {
   "cell_type": "code",
   "execution_count": 25,
   "metadata": {},
   "outputs": [
    {
     "data": {
      "text/plain": [
       "datetime.datetime(1997, 1, 31, 22, 45)"
      ]
     },
     "execution_count": 25,
     "metadata": {},
     "output_type": "execute_result"
    }
   ],
   "source": [
    "parse('Jan 31, 1997 10:45 PM')"
   ]
  },
  {
   "cell_type": "code",
   "execution_count": 26,
   "metadata": {},
   "outputs": [
    {
     "data": {
      "text/plain": [
       "datetime.datetime(2011, 12, 6, 0, 0)"
      ]
     },
     "execution_count": 26,
     "metadata": {},
     "output_type": "execute_result"
    }
   ],
   "source": [
    "parse('6/12/2011',dayfirst=True)"
   ]
  },
  {
   "cell_type": "code",
   "execution_count": 27,
   "metadata": {},
   "outputs": [],
   "source": [
    "# pandas 通常是用于处理成组日期的\n",
    "# 不管这些日期是DataFrame的轴索引还是列\n",
    "# to_datetime方法可以解析多种不同的日期表达形式"
   ]
  },
  {
   "cell_type": "code",
   "execution_count": 28,
   "metadata": {},
   "outputs": [],
   "source": [
    "datestrs = ['2011-07-06 12:00:00','2011-08-06 00:00:00']"
   ]
  },
  {
   "cell_type": "code",
   "execution_count": 31,
   "metadata": {},
   "outputs": [
    {
     "data": {
      "text/plain": [
       "DatetimeIndex(['2011-07-06 12:00:00', '2011-08-06 00:00:00'], dtype='datetime64[ns]', freq=None)"
      ]
     },
     "execution_count": 31,
     "metadata": {},
     "output_type": "execute_result"
    }
   ],
   "source": [
    "pd.to_datetime(datestrs)"
   ]
  },
  {
   "cell_type": "code",
   "execution_count": 32,
   "metadata": {},
   "outputs": [],
   "source": [
    "idx = pd.to_datetime(datestrs +[None])"
   ]
  },
  {
   "cell_type": "code",
   "execution_count": 33,
   "metadata": {},
   "outputs": [
    {
     "data": {
      "text/plain": [
       "DatetimeIndex(['2011-07-06 12:00:00', '2011-08-06 00:00:00', 'NaT'], dtype='datetime64[ns]', freq=None)"
      ]
     },
     "execution_count": 33,
     "metadata": {},
     "output_type": "execute_result"
    }
   ],
   "source": [
    "idx"
   ]
  },
  {
   "cell_type": "code",
   "execution_count": 35,
   "metadata": {},
   "outputs": [
    {
     "data": {
      "text/plain": [
       "NaT"
      ]
     },
     "execution_count": 35,
     "metadata": {},
     "output_type": "execute_result"
    }
   ],
   "source": [
    "idx[2]"
   ]
  },
  {
   "cell_type": "code",
   "execution_count": 36,
   "metadata": {},
   "outputs": [
    {
     "data": {
      "text/plain": [
       "array([False, False,  True])"
      ]
     },
     "execution_count": 36,
     "metadata": {},
     "output_type": "execute_result"
    }
   ],
   "source": [
    "pd.isnull(idx)"
   ]
  },
  {
   "cell_type": "code",
   "execution_count": 38,
   "metadata": {},
   "outputs": [],
   "source": [
    "# NaT(Not a Time) 是pandas中时间戳数据的null值"
   ]
  },
  {
   "cell_type": "code",
   "execution_count": 40,
   "metadata": {},
   "outputs": [],
   "source": [
    "# 时间序列基础"
   ]
  },
  {
   "cell_type": "code",
   "execution_count": 41,
   "metadata": {},
   "outputs": [],
   "source": [
    "# pandas最基本的时间序列类型就是以时间戳为索引的Series"
   ]
  },
  {
   "cell_type": "code",
   "execution_count": 3,
   "metadata": {},
   "outputs": [],
   "source": [
    "dates = [datetime(2011, 1, 2), datetime(2011, 1, 5),\n",
    "   ....:          datetime(2011, 1, 7), datetime(2011, 1, 8),\n",
    "   ....:          datetime(2011, 1, 10), datetime(2011, 1, 12)]"
   ]
  },
  {
   "cell_type": "code",
   "execution_count": 4,
   "metadata": {},
   "outputs": [],
   "source": [
    "ts = pd.Series(np.random.randn(len(dates)), index=dates)"
   ]
  },
  {
   "cell_type": "code",
   "execution_count": 63,
   "metadata": {},
   "outputs": [
    {
     "data": {
      "text/plain": [
       "2011-01-02   -1.598769\n",
       "2011-01-05    0.260810\n",
       "2011-01-07   -1.156542\n",
       "2011-01-08   -0.405303\n",
       "2011-01-10    0.289514\n",
       "2011-01-12    0.916638\n",
       "dtype: float64"
      ]
     },
     "execution_count": 63,
     "metadata": {},
     "output_type": "execute_result"
    }
   ],
   "source": [
    "ts"
   ]
  },
  {
   "cell_type": "code",
   "execution_count": 61,
   "metadata": {},
   "outputs": [
    {
     "data": {
      "text/plain": [
       "DatetimeIndex(['2011-01-02', '2011-01-05', '2011-01-07', '2011-01-08',\n",
       "               '2011-01-10', '2011-01-12'],\n",
       "              dtype='datetime64[ns]', freq=None)"
      ]
     },
     "execution_count": 61,
     "metadata": {},
     "output_type": "execute_result"
    }
   ],
   "source": [
    "ts.index"
   ]
  },
  {
   "cell_type": "code",
   "execution_count": 62,
   "metadata": {},
   "outputs": [
    {
     "data": {
      "text/plain": [
       "2011-01-02   -3.197538\n",
       "2011-01-05         NaN\n",
       "2011-01-07   -2.313084\n",
       "2011-01-08         NaN\n",
       "2011-01-10    0.579028\n",
       "2011-01-12         NaN\n",
       "dtype: float64"
      ]
     },
     "execution_count": 62,
     "metadata": {},
     "output_type": "execute_result"
    }
   ],
   "source": [
    "ts + ts[::2]"
   ]
  },
  {
   "cell_type": "code",
   "execution_count": 65,
   "metadata": {},
   "outputs": [],
   "source": [
    "# DatetimeIndex中的各个标量值是pandas的Timestamp对象\n",
    "\n",
    "stamp = ts.index[0]"
   ]
  },
  {
   "cell_type": "code",
   "execution_count": 66,
   "metadata": {},
   "outputs": [
    {
     "data": {
      "text/plain": [
       "Timestamp('2011-01-02 00:00:00')"
      ]
     },
     "execution_count": 66,
     "metadata": {},
     "output_type": "execute_result"
    }
   ],
   "source": [
    "stamp"
   ]
  },
  {
   "cell_type": "code",
   "execution_count": 68,
   "metadata": {},
   "outputs": [],
   "source": [
    "# 只要有需要,TimeStamp可以随时自动转换为datetime对象"
   ]
  },
  {
   "cell_type": "code",
   "execution_count": 76,
   "metadata": {},
   "outputs": [],
   "source": [
    "# 索引、选取、子集构造"
   ]
  },
  {
   "cell_type": "code",
   "execution_count": 69,
   "metadata": {},
   "outputs": [],
   "source": [
    "stamp = ts.index[2]"
   ]
  },
  {
   "cell_type": "code",
   "execution_count": 70,
   "metadata": {},
   "outputs": [
    {
     "data": {
      "text/plain": [
       "-1.1565419604321785"
      ]
     },
     "execution_count": 70,
     "metadata": {},
     "output_type": "execute_result"
    }
   ],
   "source": [
    "ts[stamp]"
   ]
  },
  {
   "cell_type": "code",
   "execution_count": 72,
   "metadata": {},
   "outputs": [
    {
     "data": {
      "text/plain": [
       "0.289514093320967"
      ]
     },
     "execution_count": 72,
     "metadata": {},
     "output_type": "execute_result"
    }
   ],
   "source": [
    "ts['1/10/2011']"
   ]
  },
  {
   "cell_type": "code",
   "execution_count": 73,
   "metadata": {},
   "outputs": [
    {
     "data": {
      "text/plain": [
       "0.289514093320967"
      ]
     },
     "execution_count": 73,
     "metadata": {},
     "output_type": "execute_result"
    }
   ],
   "source": [
    "ts['20110110']"
   ]
  },
  {
   "cell_type": "code",
   "execution_count": 74,
   "metadata": {},
   "outputs": [],
   "source": [
    "longer_ts = pd.Series(np.random.randn(1000),\n",
    "                     index=pd.date_range('1/1/2000',periods=1000))"
   ]
  },
  {
   "cell_type": "code",
   "execution_count": 75,
   "metadata": {},
   "outputs": [
    {
     "data": {
      "text/plain": [
       "2000-01-01    0.216848\n",
       "2000-01-02    0.094835\n",
       "2000-01-03   -0.699252\n",
       "2000-01-04   -3.274639\n",
       "2000-01-05    0.226020\n",
       "2000-01-06    0.273526\n",
       "2000-01-07    0.396028\n",
       "2000-01-08    1.456762\n",
       "2000-01-09    1.850233\n",
       "2000-01-10   -0.438822\n",
       "2000-01-11   -0.812658\n",
       "2000-01-12   -0.148713\n",
       "2000-01-13    1.444397\n",
       "2000-01-14    0.531303\n",
       "2000-01-15   -0.610008\n",
       "2000-01-16    0.228399\n",
       "2000-01-17    1.810016\n",
       "2000-01-18   -0.119330\n",
       "2000-01-19   -1.000015\n",
       "2000-01-20   -1.053711\n",
       "2000-01-21   -1.545367\n",
       "2000-01-22    0.002213\n",
       "2000-01-23    3.459757\n",
       "2000-01-24   -0.405298\n",
       "2000-01-25   -0.026594\n",
       "2000-01-26    0.671670\n",
       "2000-01-27    0.889440\n",
       "2000-01-28    0.470185\n",
       "2000-01-29    0.153417\n",
       "2000-01-30   -1.130276\n",
       "                ...   \n",
       "2002-08-28    0.335097\n",
       "2002-08-29   -0.145621\n",
       "2002-08-30   -0.688650\n",
       "2002-08-31    0.037779\n",
       "2002-09-01    0.459902\n",
       "2002-09-02   -0.774537\n",
       "2002-09-03    0.461491\n",
       "2002-09-04    0.387225\n",
       "2002-09-05   -0.306240\n",
       "2002-09-06   -0.242585\n",
       "2002-09-07   -1.233163\n",
       "2002-09-08    0.198119\n",
       "2002-09-09    3.319324\n",
       "2002-09-10   -0.321092\n",
       "2002-09-11   -0.125414\n",
       "2002-09-12    2.139537\n",
       "2002-09-13    1.718135\n",
       "2002-09-14    0.333358\n",
       "2002-09-15   -0.921864\n",
       "2002-09-16   -0.506611\n",
       "2002-09-17    1.291000\n",
       "2002-09-18   -1.491690\n",
       "2002-09-19   -1.384137\n",
       "2002-09-20   -2.611815\n",
       "2002-09-21   -0.090447\n",
       "2002-09-22    2.005426\n",
       "2002-09-23    0.237241\n",
       "2002-09-24   -1.271192\n",
       "2002-09-25   -0.662100\n",
       "2002-09-26   -1.495653\n",
       "Freq: D, Length: 1000, dtype: float64"
      ]
     },
     "execution_count": 75,
     "metadata": {},
     "output_type": "execute_result"
    }
   ],
   "source": [
    "longer_ts"
   ]
  },
  {
   "cell_type": "code",
   "execution_count": 77,
   "metadata": {},
   "outputs": [
    {
     "data": {
      "text/plain": [
       "2001-01-01   -0.755914\n",
       "2001-01-02    0.398766\n",
       "2001-01-03   -0.744541\n",
       "2001-01-04   -2.108438\n",
       "2001-01-05   -0.399128\n",
       "2001-01-06    0.880837\n",
       "2001-01-07   -0.882294\n",
       "2001-01-08    0.489915\n",
       "2001-01-09   -1.172703\n",
       "2001-01-10    0.342263\n",
       "2001-01-11   -1.385663\n",
       "2001-01-12    0.506934\n",
       "2001-01-13   -0.541126\n",
       "2001-01-14    0.493952\n",
       "2001-01-15    1.031200\n",
       "2001-01-16    0.714563\n",
       "2001-01-17   -0.112118\n",
       "2001-01-18   -2.055026\n",
       "2001-01-19    1.229258\n",
       "2001-01-20   -1.409840\n",
       "2001-01-21   -0.265365\n",
       "2001-01-22    1.138206\n",
       "2001-01-23    0.577299\n",
       "2001-01-24   -1.485008\n",
       "2001-01-25   -0.124998\n",
       "2001-01-26   -2.061861\n",
       "2001-01-27   -1.032322\n",
       "2001-01-28    1.596604\n",
       "2001-01-29    0.867269\n",
       "2001-01-30    0.416290\n",
       "                ...   \n",
       "2001-12-02   -1.012776\n",
       "2001-12-03   -0.617496\n",
       "2001-12-04    2.129877\n",
       "2001-12-05    0.095881\n",
       "2001-12-06   -0.288740\n",
       "2001-12-07    1.361174\n",
       "2001-12-08   -0.160438\n",
       "2001-12-09   -0.257968\n",
       "2001-12-10   -0.335209\n",
       "2001-12-11   -2.116014\n",
       "2001-12-12    0.590766\n",
       "2001-12-13   -0.274991\n",
       "2001-12-14   -0.580112\n",
       "2001-12-15   -1.984341\n",
       "2001-12-16    1.026662\n",
       "2001-12-17    1.202525\n",
       "2001-12-18   -0.633143\n",
       "2001-12-19   -1.004431\n",
       "2001-12-20   -0.807151\n",
       "2001-12-21    0.686848\n",
       "2001-12-22    0.709978\n",
       "2001-12-23    0.849332\n",
       "2001-12-24   -0.995596\n",
       "2001-12-25    1.168575\n",
       "2001-12-26   -0.755707\n",
       "2001-12-27    0.445732\n",
       "2001-12-28    0.862548\n",
       "2001-12-29   -1.300257\n",
       "2001-12-30    0.091306\n",
       "2001-12-31   -0.525711\n",
       "Freq: D, Length: 365, dtype: float64"
      ]
     },
     "execution_count": 77,
     "metadata": {},
     "output_type": "execute_result"
    }
   ],
   "source": [
    "longer_ts['2001']"
   ]
  },
  {
   "cell_type": "code",
   "execution_count": 78,
   "metadata": {},
   "outputs": [
    {
     "data": {
      "text/plain": [
       "2001-02-01    0.925422\n",
       "2001-02-02   -0.609174\n",
       "2001-02-03   -0.119473\n",
       "2001-02-04    0.632538\n",
       "2001-02-05   -1.411514\n",
       "2001-02-06   -1.615382\n",
       "2001-02-07    1.524825\n",
       "2001-02-08    0.730881\n",
       "2001-02-09   -0.535462\n",
       "2001-02-10    2.784888\n",
       "2001-02-11    0.668824\n",
       "2001-02-12   -0.659692\n",
       "2001-02-13   -0.421880\n",
       "2001-02-14   -1.455282\n",
       "2001-02-15   -1.913606\n",
       "2001-02-16   -0.996846\n",
       "2001-02-17    0.006114\n",
       "2001-02-18    0.823057\n",
       "2001-02-19   -0.988244\n",
       "2001-02-20   -1.154887\n",
       "2001-02-21    1.247926\n",
       "2001-02-22   -0.865494\n",
       "2001-02-23    1.084445\n",
       "2001-02-24    1.652529\n",
       "2001-02-25   -1.671849\n",
       "2001-02-26    1.184767\n",
       "2001-02-27    1.190728\n",
       "2001-02-28    1.614991\n",
       "Freq: D, dtype: float64"
      ]
     },
     "execution_count": 78,
     "metadata": {},
     "output_type": "execute_result"
    }
   ],
   "source": [
    "longer_ts['2001-02']"
   ]
  },
  {
   "cell_type": "code",
   "execution_count": 79,
   "metadata": {},
   "outputs": [
    {
     "data": {
      "text/plain": [
       "2011-01-07   -1.156542\n",
       "2011-01-08   -0.405303\n",
       "2011-01-10    0.289514\n",
       "2011-01-12    0.916638\n",
       "dtype: float64"
      ]
     },
     "execution_count": 79,
     "metadata": {},
     "output_type": "execute_result"
    }
   ],
   "source": [
    "# datetime对象也可以进行切片\n",
    "ts[datetime(2011,1,7):]"
   ]
  },
  {
   "cell_type": "code",
   "execution_count": 80,
   "metadata": {},
   "outputs": [
    {
     "data": {
      "text/plain": [
       "2011-01-02   -1.598769\n",
       "2011-01-05    0.260810\n",
       "2011-01-07   -1.156542\n",
       "2011-01-08   -0.405303\n",
       "2011-01-10    0.289514\n",
       "2011-01-12    0.916638\n",
       "dtype: float64"
      ]
     },
     "execution_count": 80,
     "metadata": {},
     "output_type": "execute_result"
    }
   ],
   "source": [
    "ts"
   ]
  },
  {
   "cell_type": "code",
   "execution_count": 81,
   "metadata": {},
   "outputs": [],
   "source": [
    "# 由于大部分时间序列数据是按照时间先后排序的\n",
    "# 可以用不存在于该时间序列中的时间戳对其进行切片"
   ]
  },
  {
   "cell_type": "code",
   "execution_count": 82,
   "metadata": {},
   "outputs": [
    {
     "data": {
      "text/plain": [
       "2011-01-02   -1.598769\n",
       "2011-01-05    0.260810\n",
       "2011-01-07   -1.156542\n",
       "2011-01-08   -0.405303\n",
       "2011-01-10    0.289514\n",
       "2011-01-12    0.916638\n",
       "dtype: float64"
      ]
     },
     "execution_count": 82,
     "metadata": {},
     "output_type": "execute_result"
    }
   ],
   "source": [
    "ts"
   ]
  },
  {
   "cell_type": "code",
   "execution_count": 85,
   "metadata": {},
   "outputs": [
    {
     "data": {
      "text/plain": [
       "2011-01-07   -1.156542\n",
       "2011-01-08   -0.405303\n",
       "2011-01-10    0.289514\n",
       "dtype: float64"
      ]
     },
     "execution_count": 85,
     "metadata": {},
     "output_type": "execute_result"
    }
   ],
   "source": [
    "ts['1/6/11':'1/11/2011']"
   ]
  },
  {
   "cell_type": "code",
   "execution_count": 86,
   "metadata": {},
   "outputs": [
    {
     "data": {
      "text/plain": [
       "2011-01-02   -1.598769\n",
       "2011-01-05    0.260810\n",
       "2011-01-07   -1.156542\n",
       "2011-01-08   -0.405303\n",
       "dtype: float64"
      ]
     },
     "execution_count": 86,
     "metadata": {},
     "output_type": "execute_result"
    }
   ],
   "source": [
    "# 还有一个等价的实例方法可以截取两个日期之间的TimeSeries\n",
    "ts.truncate(after='1/9/2011')"
   ]
  },
  {
   "cell_type": "code",
   "execution_count": 87,
   "metadata": {},
   "outputs": [],
   "source": [
    "# 这些操作对DataFrame也有效\n",
    "\n",
    "dates = pd.date_range('1/1/2000',periods=100,freq='W-WED')"
   ]
  },
  {
   "cell_type": "code",
   "execution_count": 88,
   "metadata": {},
   "outputs": [
    {
     "data": {
      "text/plain": [
       "DatetimeIndex(['2000-01-05', '2000-01-12', '2000-01-19', '2000-01-26',\n",
       "               '2000-02-02', '2000-02-09', '2000-02-16', '2000-02-23',\n",
       "               '2000-03-01', '2000-03-08', '2000-03-15', '2000-03-22',\n",
       "               '2000-03-29', '2000-04-05', '2000-04-12', '2000-04-19',\n",
       "               '2000-04-26', '2000-05-03', '2000-05-10', '2000-05-17',\n",
       "               '2000-05-24', '2000-05-31', '2000-06-07', '2000-06-14',\n",
       "               '2000-06-21', '2000-06-28', '2000-07-05', '2000-07-12',\n",
       "               '2000-07-19', '2000-07-26', '2000-08-02', '2000-08-09',\n",
       "               '2000-08-16', '2000-08-23', '2000-08-30', '2000-09-06',\n",
       "               '2000-09-13', '2000-09-20', '2000-09-27', '2000-10-04',\n",
       "               '2000-10-11', '2000-10-18', '2000-10-25', '2000-11-01',\n",
       "               '2000-11-08', '2000-11-15', '2000-11-22', '2000-11-29',\n",
       "               '2000-12-06', '2000-12-13', '2000-12-20', '2000-12-27',\n",
       "               '2001-01-03', '2001-01-10', '2001-01-17', '2001-01-24',\n",
       "               '2001-01-31', '2001-02-07', '2001-02-14', '2001-02-21',\n",
       "               '2001-02-28', '2001-03-07', '2001-03-14', '2001-03-21',\n",
       "               '2001-03-28', '2001-04-04', '2001-04-11', '2001-04-18',\n",
       "               '2001-04-25', '2001-05-02', '2001-05-09', '2001-05-16',\n",
       "               '2001-05-23', '2001-05-30', '2001-06-06', '2001-06-13',\n",
       "               '2001-06-20', '2001-06-27', '2001-07-04', '2001-07-11',\n",
       "               '2001-07-18', '2001-07-25', '2001-08-01', '2001-08-08',\n",
       "               '2001-08-15', '2001-08-22', '2001-08-29', '2001-09-05',\n",
       "               '2001-09-12', '2001-09-19', '2001-09-26', '2001-10-03',\n",
       "               '2001-10-10', '2001-10-17', '2001-10-24', '2001-10-31',\n",
       "               '2001-11-07', '2001-11-14', '2001-11-21', '2001-11-28'],\n",
       "              dtype='datetime64[ns]', freq='W-WED')"
      ]
     },
     "execution_count": 88,
     "metadata": {},
     "output_type": "execute_result"
    }
   ],
   "source": [
    "dates"
   ]
  },
  {
   "cell_type": "code",
   "execution_count": 89,
   "metadata": {},
   "outputs": [],
   "source": [
    "long_df = pd.DataFrame(np.random.randn(100,4)\n",
    "                      ,index=dates,\n",
    "                      columns=['Colorado','Texas',\n",
    "                              'New York','Ohio'])"
   ]
  },
  {
   "cell_type": "code",
   "execution_count": 90,
   "metadata": {},
   "outputs": [
    {
     "data": {
      "text/html": [
       "<div>\n",
       "<style scoped>\n",
       "    .dataframe tbody tr th:only-of-type {\n",
       "        vertical-align: middle;\n",
       "    }\n",
       "\n",
       "    .dataframe tbody tr th {\n",
       "        vertical-align: top;\n",
       "    }\n",
       "\n",
       "    .dataframe thead th {\n",
       "        text-align: right;\n",
       "    }\n",
       "</style>\n",
       "<table border=\"1\" class=\"dataframe\">\n",
       "  <thead>\n",
       "    <tr style=\"text-align: right;\">\n",
       "      <th></th>\n",
       "      <th>Colorado</th>\n",
       "      <th>Texas</th>\n",
       "      <th>New York</th>\n",
       "      <th>Ohio</th>\n",
       "    </tr>\n",
       "  </thead>\n",
       "  <tbody>\n",
       "    <tr>\n",
       "      <th>2000-01-05</th>\n",
       "      <td>0.537194</td>\n",
       "      <td>-0.506667</td>\n",
       "      <td>0.548181</td>\n",
       "      <td>1.754848</td>\n",
       "    </tr>\n",
       "    <tr>\n",
       "      <th>2000-01-12</th>\n",
       "      <td>-1.083055</td>\n",
       "      <td>0.022801</td>\n",
       "      <td>-1.086522</td>\n",
       "      <td>-0.193441</td>\n",
       "    </tr>\n",
       "    <tr>\n",
       "      <th>2000-01-19</th>\n",
       "      <td>0.020705</td>\n",
       "      <td>1.992898</td>\n",
       "      <td>0.693465</td>\n",
       "      <td>-0.397023</td>\n",
       "    </tr>\n",
       "    <tr>\n",
       "      <th>2000-01-26</th>\n",
       "      <td>-0.018741</td>\n",
       "      <td>0.072612</td>\n",
       "      <td>-1.233891</td>\n",
       "      <td>-0.702096</td>\n",
       "    </tr>\n",
       "    <tr>\n",
       "      <th>2000-02-02</th>\n",
       "      <td>-0.661897</td>\n",
       "      <td>-1.635194</td>\n",
       "      <td>0.884435</td>\n",
       "      <td>0.599216</td>\n",
       "    </tr>\n",
       "    <tr>\n",
       "      <th>2000-02-09</th>\n",
       "      <td>-0.653797</td>\n",
       "      <td>0.896138</td>\n",
       "      <td>0.831074</td>\n",
       "      <td>-0.109098</td>\n",
       "    </tr>\n",
       "    <tr>\n",
       "      <th>2000-02-16</th>\n",
       "      <td>0.163837</td>\n",
       "      <td>-1.332941</td>\n",
       "      <td>0.104770</td>\n",
       "      <td>0.376468</td>\n",
       "    </tr>\n",
       "    <tr>\n",
       "      <th>2000-02-23</th>\n",
       "      <td>-2.307386</td>\n",
       "      <td>-0.607065</td>\n",
       "      <td>1.844410</td>\n",
       "      <td>1.353210</td>\n",
       "    </tr>\n",
       "    <tr>\n",
       "      <th>2000-03-01</th>\n",
       "      <td>0.213977</td>\n",
       "      <td>-0.495036</td>\n",
       "      <td>-0.756292</td>\n",
       "      <td>1.103130</td>\n",
       "    </tr>\n",
       "    <tr>\n",
       "      <th>2000-03-08</th>\n",
       "      <td>-0.694423</td>\n",
       "      <td>-0.369009</td>\n",
       "      <td>1.365638</td>\n",
       "      <td>-0.013500</td>\n",
       "    </tr>\n",
       "    <tr>\n",
       "      <th>2000-03-15</th>\n",
       "      <td>-1.301430</td>\n",
       "      <td>-1.172665</td>\n",
       "      <td>-0.518101</td>\n",
       "      <td>0.149111</td>\n",
       "    </tr>\n",
       "    <tr>\n",
       "      <th>2000-03-22</th>\n",
       "      <td>-0.165123</td>\n",
       "      <td>0.452828</td>\n",
       "      <td>-0.130757</td>\n",
       "      <td>0.061378</td>\n",
       "    </tr>\n",
       "    <tr>\n",
       "      <th>2000-03-29</th>\n",
       "      <td>0.533314</td>\n",
       "      <td>1.191588</td>\n",
       "      <td>-0.479700</td>\n",
       "      <td>0.286997</td>\n",
       "    </tr>\n",
       "    <tr>\n",
       "      <th>2000-04-05</th>\n",
       "      <td>1.264560</td>\n",
       "      <td>-1.198263</td>\n",
       "      <td>1.401045</td>\n",
       "      <td>0.183613</td>\n",
       "    </tr>\n",
       "    <tr>\n",
       "      <th>2000-04-12</th>\n",
       "      <td>-1.187498</td>\n",
       "      <td>0.051109</td>\n",
       "      <td>2.116723</td>\n",
       "      <td>-1.963076</td>\n",
       "    </tr>\n",
       "    <tr>\n",
       "      <th>2000-04-19</th>\n",
       "      <td>-0.509283</td>\n",
       "      <td>-2.101667</td>\n",
       "      <td>0.644044</td>\n",
       "      <td>-1.202455</td>\n",
       "    </tr>\n",
       "    <tr>\n",
       "      <th>2000-04-26</th>\n",
       "      <td>0.838589</td>\n",
       "      <td>-0.844135</td>\n",
       "      <td>0.725583</td>\n",
       "      <td>1.645372</td>\n",
       "    </tr>\n",
       "    <tr>\n",
       "      <th>2000-05-03</th>\n",
       "      <td>0.845104</td>\n",
       "      <td>-1.688870</td>\n",
       "      <td>-1.200009</td>\n",
       "      <td>-0.820795</td>\n",
       "    </tr>\n",
       "    <tr>\n",
       "      <th>2000-05-10</th>\n",
       "      <td>-1.028129</td>\n",
       "      <td>0.467735</td>\n",
       "      <td>1.123780</td>\n",
       "      <td>-0.201579</td>\n",
       "    </tr>\n",
       "    <tr>\n",
       "      <th>2000-05-17</th>\n",
       "      <td>-0.885389</td>\n",
       "      <td>0.923943</td>\n",
       "      <td>-0.110474</td>\n",
       "      <td>-0.849079</td>\n",
       "    </tr>\n",
       "    <tr>\n",
       "      <th>2000-05-24</th>\n",
       "      <td>0.782946</td>\n",
       "      <td>-0.541833</td>\n",
       "      <td>0.959125</td>\n",
       "      <td>0.790343</td>\n",
       "    </tr>\n",
       "    <tr>\n",
       "      <th>2000-05-31</th>\n",
       "      <td>0.747811</td>\n",
       "      <td>-0.746516</td>\n",
       "      <td>0.695752</td>\n",
       "      <td>0.664470</td>\n",
       "    </tr>\n",
       "    <tr>\n",
       "      <th>2000-06-07</th>\n",
       "      <td>-0.252542</td>\n",
       "      <td>0.796019</td>\n",
       "      <td>-0.379522</td>\n",
       "      <td>0.221962</td>\n",
       "    </tr>\n",
       "    <tr>\n",
       "      <th>2000-06-14</th>\n",
       "      <td>-0.535991</td>\n",
       "      <td>1.027719</td>\n",
       "      <td>0.585116</td>\n",
       "      <td>-1.067688</td>\n",
       "    </tr>\n",
       "    <tr>\n",
       "      <th>2000-06-21</th>\n",
       "      <td>0.814508</td>\n",
       "      <td>0.793131</td>\n",
       "      <td>-0.330744</td>\n",
       "      <td>0.073503</td>\n",
       "    </tr>\n",
       "    <tr>\n",
       "      <th>2000-06-28</th>\n",
       "      <td>1.131810</td>\n",
       "      <td>-0.748049</td>\n",
       "      <td>-1.749484</td>\n",
       "      <td>-0.151786</td>\n",
       "    </tr>\n",
       "    <tr>\n",
       "      <th>2000-07-05</th>\n",
       "      <td>-0.013722</td>\n",
       "      <td>-0.200590</td>\n",
       "      <td>-0.539896</td>\n",
       "      <td>0.640251</td>\n",
       "    </tr>\n",
       "    <tr>\n",
       "      <th>2000-07-12</th>\n",
       "      <td>1.626157</td>\n",
       "      <td>0.108102</td>\n",
       "      <td>0.041299</td>\n",
       "      <td>-1.873174</td>\n",
       "    </tr>\n",
       "    <tr>\n",
       "      <th>2000-07-19</th>\n",
       "      <td>-0.311979</td>\n",
       "      <td>2.329730</td>\n",
       "      <td>-0.967689</td>\n",
       "      <td>0.639894</td>\n",
       "    </tr>\n",
       "    <tr>\n",
       "      <th>2000-07-26</th>\n",
       "      <td>-1.442666</td>\n",
       "      <td>-0.934325</td>\n",
       "      <td>0.574738</td>\n",
       "      <td>-1.719135</td>\n",
       "    </tr>\n",
       "    <tr>\n",
       "      <th>...</th>\n",
       "      <td>...</td>\n",
       "      <td>...</td>\n",
       "      <td>...</td>\n",
       "      <td>...</td>\n",
       "    </tr>\n",
       "    <tr>\n",
       "      <th>2001-05-09</th>\n",
       "      <td>1.693482</td>\n",
       "      <td>-0.354028</td>\n",
       "      <td>-0.292018</td>\n",
       "      <td>0.234954</td>\n",
       "    </tr>\n",
       "    <tr>\n",
       "      <th>2001-05-16</th>\n",
       "      <td>1.107721</td>\n",
       "      <td>2.057732</td>\n",
       "      <td>0.368030</td>\n",
       "      <td>-0.433754</td>\n",
       "    </tr>\n",
       "    <tr>\n",
       "      <th>2001-05-23</th>\n",
       "      <td>1.372222</td>\n",
       "      <td>-0.850141</td>\n",
       "      <td>-0.863943</td>\n",
       "      <td>-0.607574</td>\n",
       "    </tr>\n",
       "    <tr>\n",
       "      <th>2001-05-30</th>\n",
       "      <td>0.046347</td>\n",
       "      <td>-1.996749</td>\n",
       "      <td>-1.069356</td>\n",
       "      <td>-0.465435</td>\n",
       "    </tr>\n",
       "    <tr>\n",
       "      <th>2001-06-06</th>\n",
       "      <td>-1.154431</td>\n",
       "      <td>-0.506116</td>\n",
       "      <td>0.074904</td>\n",
       "      <td>0.493563</td>\n",
       "    </tr>\n",
       "    <tr>\n",
       "      <th>2001-06-13</th>\n",
       "      <td>-0.436797</td>\n",
       "      <td>0.972174</td>\n",
       "      <td>0.859206</td>\n",
       "      <td>0.414530</td>\n",
       "    </tr>\n",
       "    <tr>\n",
       "      <th>2001-06-20</th>\n",
       "      <td>-1.412379</td>\n",
       "      <td>0.521664</td>\n",
       "      <td>1.534991</td>\n",
       "      <td>-0.301782</td>\n",
       "    </tr>\n",
       "    <tr>\n",
       "      <th>2001-06-27</th>\n",
       "      <td>1.036842</td>\n",
       "      <td>-1.328336</td>\n",
       "      <td>-0.340091</td>\n",
       "      <td>-1.458858</td>\n",
       "    </tr>\n",
       "    <tr>\n",
       "      <th>2001-07-04</th>\n",
       "      <td>1.182230</td>\n",
       "      <td>-0.184116</td>\n",
       "      <td>1.312115</td>\n",
       "      <td>-0.505921</td>\n",
       "    </tr>\n",
       "    <tr>\n",
       "      <th>2001-07-11</th>\n",
       "      <td>-0.041957</td>\n",
       "      <td>1.431466</td>\n",
       "      <td>0.515667</td>\n",
       "      <td>-0.073219</td>\n",
       "    </tr>\n",
       "    <tr>\n",
       "      <th>2001-07-18</th>\n",
       "      <td>0.304867</td>\n",
       "      <td>0.492872</td>\n",
       "      <td>-0.218748</td>\n",
       "      <td>-1.244259</td>\n",
       "    </tr>\n",
       "    <tr>\n",
       "      <th>2001-07-25</th>\n",
       "      <td>-2.173044</td>\n",
       "      <td>-0.030981</td>\n",
       "      <td>-1.155405</td>\n",
       "      <td>0.523743</td>\n",
       "    </tr>\n",
       "    <tr>\n",
       "      <th>2001-08-01</th>\n",
       "      <td>0.032046</td>\n",
       "      <td>1.401625</td>\n",
       "      <td>-0.569696</td>\n",
       "      <td>0.672412</td>\n",
       "    </tr>\n",
       "    <tr>\n",
       "      <th>2001-08-08</th>\n",
       "      <td>0.282588</td>\n",
       "      <td>-0.581807</td>\n",
       "      <td>-0.176419</td>\n",
       "      <td>-0.079349</td>\n",
       "    </tr>\n",
       "    <tr>\n",
       "      <th>2001-08-15</th>\n",
       "      <td>0.166082</td>\n",
       "      <td>-0.681866</td>\n",
       "      <td>0.895693</td>\n",
       "      <td>0.481877</td>\n",
       "    </tr>\n",
       "    <tr>\n",
       "      <th>2001-08-22</th>\n",
       "      <td>0.355152</td>\n",
       "      <td>-0.988210</td>\n",
       "      <td>-2.335197</td>\n",
       "      <td>-1.666868</td>\n",
       "    </tr>\n",
       "    <tr>\n",
       "      <th>2001-08-29</th>\n",
       "      <td>-1.701493</td>\n",
       "      <td>0.735054</td>\n",
       "      <td>0.766526</td>\n",
       "      <td>-0.594115</td>\n",
       "    </tr>\n",
       "    <tr>\n",
       "      <th>2001-09-05</th>\n",
       "      <td>-0.180640</td>\n",
       "      <td>0.690572</td>\n",
       "      <td>0.510366</td>\n",
       "      <td>-0.916668</td>\n",
       "    </tr>\n",
       "    <tr>\n",
       "      <th>2001-09-12</th>\n",
       "      <td>-2.668868</td>\n",
       "      <td>0.139154</td>\n",
       "      <td>-1.273899</td>\n",
       "      <td>-0.479271</td>\n",
       "    </tr>\n",
       "    <tr>\n",
       "      <th>2001-09-19</th>\n",
       "      <td>0.320779</td>\n",
       "      <td>-1.065102</td>\n",
       "      <td>-0.747260</td>\n",
       "      <td>-0.050943</td>\n",
       "    </tr>\n",
       "    <tr>\n",
       "      <th>2001-09-26</th>\n",
       "      <td>1.252835</td>\n",
       "      <td>-1.873199</td>\n",
       "      <td>0.395058</td>\n",
       "      <td>1.081230</td>\n",
       "    </tr>\n",
       "    <tr>\n",
       "      <th>2001-10-03</th>\n",
       "      <td>-1.253444</td>\n",
       "      <td>-0.197441</td>\n",
       "      <td>1.945103</td>\n",
       "      <td>1.935335</td>\n",
       "    </tr>\n",
       "    <tr>\n",
       "      <th>2001-10-10</th>\n",
       "      <td>1.044718</td>\n",
       "      <td>0.578720</td>\n",
       "      <td>0.779279</td>\n",
       "      <td>2.007918</td>\n",
       "    </tr>\n",
       "    <tr>\n",
       "      <th>2001-10-17</th>\n",
       "      <td>-0.728152</td>\n",
       "      <td>1.598349</td>\n",
       "      <td>-0.970826</td>\n",
       "      <td>-0.179837</td>\n",
       "    </tr>\n",
       "    <tr>\n",
       "      <th>2001-10-24</th>\n",
       "      <td>1.241028</td>\n",
       "      <td>-1.365246</td>\n",
       "      <td>0.843833</td>\n",
       "      <td>0.704697</td>\n",
       "    </tr>\n",
       "    <tr>\n",
       "      <th>2001-10-31</th>\n",
       "      <td>-0.214226</td>\n",
       "      <td>1.033550</td>\n",
       "      <td>-1.646640</td>\n",
       "      <td>0.732701</td>\n",
       "    </tr>\n",
       "    <tr>\n",
       "      <th>2001-11-07</th>\n",
       "      <td>0.859387</td>\n",
       "      <td>3.009295</td>\n",
       "      <td>-0.568317</td>\n",
       "      <td>0.668995</td>\n",
       "    </tr>\n",
       "    <tr>\n",
       "      <th>2001-11-14</th>\n",
       "      <td>0.809497</td>\n",
       "      <td>1.774076</td>\n",
       "      <td>-1.587233</td>\n",
       "      <td>0.056914</td>\n",
       "    </tr>\n",
       "    <tr>\n",
       "      <th>2001-11-21</th>\n",
       "      <td>0.473482</td>\n",
       "      <td>0.462289</td>\n",
       "      <td>-0.849371</td>\n",
       "      <td>0.573595</td>\n",
       "    </tr>\n",
       "    <tr>\n",
       "      <th>2001-11-28</th>\n",
       "      <td>1.311815</td>\n",
       "      <td>-0.736367</td>\n",
       "      <td>-0.152502</td>\n",
       "      <td>0.208607</td>\n",
       "    </tr>\n",
       "  </tbody>\n",
       "</table>\n",
       "<p>100 rows × 4 columns</p>\n",
       "</div>"
      ],
      "text/plain": [
       "            Colorado     Texas  New York      Ohio\n",
       "2000-01-05  0.537194 -0.506667  0.548181  1.754848\n",
       "2000-01-12 -1.083055  0.022801 -1.086522 -0.193441\n",
       "2000-01-19  0.020705  1.992898  0.693465 -0.397023\n",
       "2000-01-26 -0.018741  0.072612 -1.233891 -0.702096\n",
       "2000-02-02 -0.661897 -1.635194  0.884435  0.599216\n",
       "2000-02-09 -0.653797  0.896138  0.831074 -0.109098\n",
       "2000-02-16  0.163837 -1.332941  0.104770  0.376468\n",
       "2000-02-23 -2.307386 -0.607065  1.844410  1.353210\n",
       "2000-03-01  0.213977 -0.495036 -0.756292  1.103130\n",
       "2000-03-08 -0.694423 -0.369009  1.365638 -0.013500\n",
       "2000-03-15 -1.301430 -1.172665 -0.518101  0.149111\n",
       "2000-03-22 -0.165123  0.452828 -0.130757  0.061378\n",
       "2000-03-29  0.533314  1.191588 -0.479700  0.286997\n",
       "2000-04-05  1.264560 -1.198263  1.401045  0.183613\n",
       "2000-04-12 -1.187498  0.051109  2.116723 -1.963076\n",
       "2000-04-19 -0.509283 -2.101667  0.644044 -1.202455\n",
       "2000-04-26  0.838589 -0.844135  0.725583  1.645372\n",
       "2000-05-03  0.845104 -1.688870 -1.200009 -0.820795\n",
       "2000-05-10 -1.028129  0.467735  1.123780 -0.201579\n",
       "2000-05-17 -0.885389  0.923943 -0.110474 -0.849079\n",
       "2000-05-24  0.782946 -0.541833  0.959125  0.790343\n",
       "2000-05-31  0.747811 -0.746516  0.695752  0.664470\n",
       "2000-06-07 -0.252542  0.796019 -0.379522  0.221962\n",
       "2000-06-14 -0.535991  1.027719  0.585116 -1.067688\n",
       "2000-06-21  0.814508  0.793131 -0.330744  0.073503\n",
       "2000-06-28  1.131810 -0.748049 -1.749484 -0.151786\n",
       "2000-07-05 -0.013722 -0.200590 -0.539896  0.640251\n",
       "2000-07-12  1.626157  0.108102  0.041299 -1.873174\n",
       "2000-07-19 -0.311979  2.329730 -0.967689  0.639894\n",
       "2000-07-26 -1.442666 -0.934325  0.574738 -1.719135\n",
       "...              ...       ...       ...       ...\n",
       "2001-05-09  1.693482 -0.354028 -0.292018  0.234954\n",
       "2001-05-16  1.107721  2.057732  0.368030 -0.433754\n",
       "2001-05-23  1.372222 -0.850141 -0.863943 -0.607574\n",
       "2001-05-30  0.046347 -1.996749 -1.069356 -0.465435\n",
       "2001-06-06 -1.154431 -0.506116  0.074904  0.493563\n",
       "2001-06-13 -0.436797  0.972174  0.859206  0.414530\n",
       "2001-06-20 -1.412379  0.521664  1.534991 -0.301782\n",
       "2001-06-27  1.036842 -1.328336 -0.340091 -1.458858\n",
       "2001-07-04  1.182230 -0.184116  1.312115 -0.505921\n",
       "2001-07-11 -0.041957  1.431466  0.515667 -0.073219\n",
       "2001-07-18  0.304867  0.492872 -0.218748 -1.244259\n",
       "2001-07-25 -2.173044 -0.030981 -1.155405  0.523743\n",
       "2001-08-01  0.032046  1.401625 -0.569696  0.672412\n",
       "2001-08-08  0.282588 -0.581807 -0.176419 -0.079349\n",
       "2001-08-15  0.166082 -0.681866  0.895693  0.481877\n",
       "2001-08-22  0.355152 -0.988210 -2.335197 -1.666868\n",
       "2001-08-29 -1.701493  0.735054  0.766526 -0.594115\n",
       "2001-09-05 -0.180640  0.690572  0.510366 -0.916668\n",
       "2001-09-12 -2.668868  0.139154 -1.273899 -0.479271\n",
       "2001-09-19  0.320779 -1.065102 -0.747260 -0.050943\n",
       "2001-09-26  1.252835 -1.873199  0.395058  1.081230\n",
       "2001-10-03 -1.253444 -0.197441  1.945103  1.935335\n",
       "2001-10-10  1.044718  0.578720  0.779279  2.007918\n",
       "2001-10-17 -0.728152  1.598349 -0.970826 -0.179837\n",
       "2001-10-24  1.241028 -1.365246  0.843833  0.704697\n",
       "2001-10-31 -0.214226  1.033550 -1.646640  0.732701\n",
       "2001-11-07  0.859387  3.009295 -0.568317  0.668995\n",
       "2001-11-14  0.809497  1.774076 -1.587233  0.056914\n",
       "2001-11-21  0.473482  0.462289 -0.849371  0.573595\n",
       "2001-11-28  1.311815 -0.736367 -0.152502  0.208607\n",
       "\n",
       "[100 rows x 4 columns]"
      ]
     },
     "execution_count": 90,
     "metadata": {},
     "output_type": "execute_result"
    }
   ],
   "source": [
    "long_df"
   ]
  },
  {
   "cell_type": "code",
   "execution_count": 91,
   "metadata": {},
   "outputs": [
    {
     "data": {
      "text/html": [
       "<div>\n",
       "<style scoped>\n",
       "    .dataframe tbody tr th:only-of-type {\n",
       "        vertical-align: middle;\n",
       "    }\n",
       "\n",
       "    .dataframe tbody tr th {\n",
       "        vertical-align: top;\n",
       "    }\n",
       "\n",
       "    .dataframe thead th {\n",
       "        text-align: right;\n",
       "    }\n",
       "</style>\n",
       "<table border=\"1\" class=\"dataframe\">\n",
       "  <thead>\n",
       "    <tr style=\"text-align: right;\">\n",
       "      <th></th>\n",
       "      <th>Colorado</th>\n",
       "      <th>Texas</th>\n",
       "      <th>New York</th>\n",
       "      <th>Ohio</th>\n",
       "    </tr>\n",
       "  </thead>\n",
       "  <tbody>\n",
       "    <tr>\n",
       "      <th>2001-05-02</th>\n",
       "      <td>1.152249</td>\n",
       "      <td>-2.495603</td>\n",
       "      <td>1.414225</td>\n",
       "      <td>0.335101</td>\n",
       "    </tr>\n",
       "    <tr>\n",
       "      <th>2001-05-09</th>\n",
       "      <td>1.693482</td>\n",
       "      <td>-0.354028</td>\n",
       "      <td>-0.292018</td>\n",
       "      <td>0.234954</td>\n",
       "    </tr>\n",
       "    <tr>\n",
       "      <th>2001-05-16</th>\n",
       "      <td>1.107721</td>\n",
       "      <td>2.057732</td>\n",
       "      <td>0.368030</td>\n",
       "      <td>-0.433754</td>\n",
       "    </tr>\n",
       "    <tr>\n",
       "      <th>2001-05-23</th>\n",
       "      <td>1.372222</td>\n",
       "      <td>-0.850141</td>\n",
       "      <td>-0.863943</td>\n",
       "      <td>-0.607574</td>\n",
       "    </tr>\n",
       "    <tr>\n",
       "      <th>2001-05-30</th>\n",
       "      <td>0.046347</td>\n",
       "      <td>-1.996749</td>\n",
       "      <td>-1.069356</td>\n",
       "      <td>-0.465435</td>\n",
       "    </tr>\n",
       "  </tbody>\n",
       "</table>\n",
       "</div>"
      ],
      "text/plain": [
       "            Colorado     Texas  New York      Ohio\n",
       "2001-05-02  1.152249 -2.495603  1.414225  0.335101\n",
       "2001-05-09  1.693482 -0.354028 -0.292018  0.234954\n",
       "2001-05-16  1.107721  2.057732  0.368030 -0.433754\n",
       "2001-05-23  1.372222 -0.850141 -0.863943 -0.607574\n",
       "2001-05-30  0.046347 -1.996749 -1.069356 -0.465435"
      ]
     },
     "execution_count": 91,
     "metadata": {},
     "output_type": "execute_result"
    }
   ],
   "source": [
    "long_df.loc['5-2001']"
   ]
  },
  {
   "cell_type": "code",
   "execution_count": null,
   "metadata": {},
   "outputs": [],
   "source": [
    "# 日期的范围、频率以及移动\n",
    "# pandas有一整套标准时间序列频率\n",
    "# 以及用于重采样、频率推断、生成固定频率日期范围的工具\n"
   ]
  },
  {
   "cell_type": "code",
   "execution_count": 6,
   "metadata": {},
   "outputs": [
    {
     "data": {
      "text/plain": [
       "2011-01-02    1.334904\n",
       "2011-01-05   -0.284661\n",
       "2011-01-07   -0.238854\n",
       "2011-01-08    0.475048\n",
       "2011-01-10    0.418716\n",
       "2011-01-12    0.110473\n",
       "dtype: float64"
      ]
     },
     "execution_count": 6,
     "metadata": {},
     "output_type": "execute_result"
    }
   ],
   "source": [
    "ts"
   ]
  },
  {
   "cell_type": "code",
   "execution_count": 7,
   "metadata": {},
   "outputs": [],
   "source": [
    "resampler = ts.resample('D')"
   ]
  },
  {
   "cell_type": "code",
   "execution_count": 9,
   "metadata": {},
   "outputs": [
    {
     "data": {
      "text/plain": [
       "DatetimeIndexResampler [freq=<Day>, axis=0, closed=left, label=left, convention=start, base=0]"
      ]
     },
     "execution_count": 9,
     "metadata": {},
     "output_type": "execute_result"
    }
   ],
   "source": [
    "resampler"
   ]
  },
  {
   "cell_type": "code",
   "execution_count": 10,
   "metadata": {},
   "outputs": [],
   "source": [
    "# 生成日期范围\n",
    "# pandas.date_range可用于根据指定的频率生成指定长度的DatetimeIndex"
   ]
  },
  {
   "cell_type": "code",
   "execution_count": 11,
   "metadata": {},
   "outputs": [],
   "source": [
    "index = pd.date_range('2012-04-01','2012-06-01')"
   ]
  },
  {
   "cell_type": "code",
   "execution_count": 12,
   "metadata": {},
   "outputs": [
    {
     "data": {
      "text/plain": [
       "DatetimeIndex(['2012-04-01', '2012-04-02', '2012-04-03', '2012-04-04',\n",
       "               '2012-04-05', '2012-04-06', '2012-04-07', '2012-04-08',\n",
       "               '2012-04-09', '2012-04-10', '2012-04-11', '2012-04-12',\n",
       "               '2012-04-13', '2012-04-14', '2012-04-15', '2012-04-16',\n",
       "               '2012-04-17', '2012-04-18', '2012-04-19', '2012-04-20',\n",
       "               '2012-04-21', '2012-04-22', '2012-04-23', '2012-04-24',\n",
       "               '2012-04-25', '2012-04-26', '2012-04-27', '2012-04-28',\n",
       "               '2012-04-29', '2012-04-30', '2012-05-01', '2012-05-02',\n",
       "               '2012-05-03', '2012-05-04', '2012-05-05', '2012-05-06',\n",
       "               '2012-05-07', '2012-05-08', '2012-05-09', '2012-05-10',\n",
       "               '2012-05-11', '2012-05-12', '2012-05-13', '2012-05-14',\n",
       "               '2012-05-15', '2012-05-16', '2012-05-17', '2012-05-18',\n",
       "               '2012-05-19', '2012-05-20', '2012-05-21', '2012-05-22',\n",
       "               '2012-05-23', '2012-05-24', '2012-05-25', '2012-05-26',\n",
       "               '2012-05-27', '2012-05-28', '2012-05-29', '2012-05-30',\n",
       "               '2012-05-31', '2012-06-01'],\n",
       "              dtype='datetime64[ns]', freq='D')"
      ]
     },
     "execution_count": 12,
     "metadata": {},
     "output_type": "execute_result"
    }
   ],
   "source": [
    "index"
   ]
  },
  {
   "cell_type": "code",
   "execution_count": 13,
   "metadata": {},
   "outputs": [
    {
     "data": {
      "text/plain": [
       "DatetimeIndex(['2012-04-01', '2012-04-02', '2012-04-03', '2012-04-04',\n",
       "               '2012-04-05', '2012-04-06', '2012-04-07', '2012-04-08',\n",
       "               '2012-04-09', '2012-04-10', '2012-04-11', '2012-04-12',\n",
       "               '2012-04-13', '2012-04-14', '2012-04-15', '2012-04-16',\n",
       "               '2012-04-17', '2012-04-18', '2012-04-19', '2012-04-20'],\n",
       "              dtype='datetime64[ns]', freq='D')"
      ]
     },
     "execution_count": 13,
     "metadata": {},
     "output_type": "execute_result"
    }
   ],
   "source": [
    "# 默认情况下,date_range会产生按天计算的时间点\n",
    "# 如果只传入起始或结束时期\n",
    "# 那还得传入一个表示一段时间的数字\n",
    "\n",
    "pd.date_range(start='2012-04-01',periods=20)"
   ]
  },
  {
   "cell_type": "code",
   "execution_count": 14,
   "metadata": {},
   "outputs": [
    {
     "data": {
      "text/plain": [
       "DatetimeIndex(['2012-05-13', '2012-05-14', '2012-05-15', '2012-05-16',\n",
       "               '2012-05-17', '2012-05-18', '2012-05-19', '2012-05-20',\n",
       "               '2012-05-21', '2012-05-22', '2012-05-23', '2012-05-24',\n",
       "               '2012-05-25', '2012-05-26', '2012-05-27', '2012-05-28',\n",
       "               '2012-05-29', '2012-05-30', '2012-05-31', '2012-06-01'],\n",
       "              dtype='datetime64[ns]', freq='D')"
      ]
     },
     "execution_count": 14,
     "metadata": {},
     "output_type": "execute_result"
    }
   ],
   "source": [
    "pd.date_range(end='2012-06-01',periods=20)"
   ]
  },
  {
   "cell_type": "code",
   "execution_count": 15,
   "metadata": {},
   "outputs": [
    {
     "data": {
      "text/plain": [
       "DatetimeIndex(['2000-01-31', '2000-02-29', '2000-03-31', '2000-04-28',\n",
       "               '2000-05-31', '2000-06-30', '2000-07-31', '2000-08-31',\n",
       "               '2000-09-29', '2000-10-31', '2000-11-30'],\n",
       "              dtype='datetime64[ns]', freq='BM')"
      ]
     },
     "execution_count": 15,
     "metadata": {},
     "output_type": "execute_result"
    }
   ],
   "source": [
    "# 可以传入时间序列频率还限定生成的DatetimeIndex\n",
    "pd.date_range('2000-01-01','2000-12-01',freq='BM')"
   ]
  },
  {
   "cell_type": "code",
   "execution_count": 16,
   "metadata": {},
   "outputs": [],
   "source": [
    "# 频率和日期偏移量\n",
    "# pandas中的频率由一个基础频率和一个乘数组成"
   ]
  },
  {
   "cell_type": "code",
   "execution_count": 17,
   "metadata": {},
   "outputs": [],
   "source": [
    "from pandas.tseries.offsets import Hour,Minute"
   ]
  },
  {
   "cell_type": "code",
   "execution_count": 18,
   "metadata": {},
   "outputs": [],
   "source": [
    "hour =Hour()"
   ]
  },
  {
   "cell_type": "code",
   "execution_count": 19,
   "metadata": {},
   "outputs": [
    {
     "data": {
      "text/plain": [
       "<Hour>"
      ]
     },
     "execution_count": 19,
     "metadata": {},
     "output_type": "execute_result"
    }
   ],
   "source": [
    "hour"
   ]
  },
  {
   "cell_type": "code",
   "execution_count": 20,
   "metadata": {},
   "outputs": [],
   "source": [
    "# 传入一个整数可以定义偏移量的倍数\n",
    "four_hours = Hour(4)"
   ]
  },
  {
   "cell_type": "code",
   "execution_count": 21,
   "metadata": {},
   "outputs": [
    {
     "data": {
      "text/plain": [
       "<4 * Hours>"
      ]
     },
     "execution_count": 21,
     "metadata": {},
     "output_type": "execute_result"
    }
   ],
   "source": [
    "four_hours"
   ]
  },
  {
   "cell_type": "code",
   "execution_count": 22,
   "metadata": {},
   "outputs": [],
   "source": [
    "# 一般来说,无需创建这样的对象,只需使用诸如“H”，“4H”这样的字符串别名即可\n"
   ]
  },
  {
   "cell_type": "code",
   "execution_count": 24,
   "metadata": {},
   "outputs": [
    {
     "data": {
      "text/plain": [
       "DatetimeIndex(['2000-01-01 00:00:00', '2000-01-01 04:00:00',\n",
       "               '2000-01-01 08:00:00', '2000-01-01 12:00:00',\n",
       "               '2000-01-01 16:00:00', '2000-01-01 20:00:00',\n",
       "               '2000-01-02 00:00:00', '2000-01-02 04:00:00',\n",
       "               '2000-01-02 08:00:00', '2000-01-02 12:00:00',\n",
       "               '2000-01-02 16:00:00', '2000-01-02 20:00:00',\n",
       "               '2000-01-03 00:00:00', '2000-01-03 04:00:00',\n",
       "               '2000-01-03 08:00:00', '2000-01-03 12:00:00',\n",
       "               '2000-01-03 16:00:00', '2000-01-03 20:00:00'],\n",
       "              dtype='datetime64[ns]', freq='4H')"
      ]
     },
     "execution_count": 24,
     "metadata": {},
     "output_type": "execute_result"
    }
   ],
   "source": [
    "pd.date_range('2000-01-01','2000-01-03 23:59',freq='4h')"
   ]
  },
  {
   "cell_type": "code",
   "execution_count": 25,
   "metadata": {},
   "outputs": [
    {
     "data": {
      "text/plain": [
       "<150 * Minutes>"
      ]
     },
     "execution_count": 25,
     "metadata": {},
     "output_type": "execute_result"
    }
   ],
   "source": [
    "# 大部分偏移量对象都可以通过加法进行连接\n",
    "Hour(2) + Minute(30)"
   ]
  },
  {
   "cell_type": "code",
   "execution_count": 26,
   "metadata": {},
   "outputs": [
    {
     "data": {
      "text/plain": [
       "DatetimeIndex(['2000-01-01 00:00:00', '2000-01-01 01:30:00',\n",
       "               '2000-01-01 03:00:00', '2000-01-01 04:30:00',\n",
       "               '2000-01-01 06:00:00', '2000-01-01 07:30:00',\n",
       "               '2000-01-01 09:00:00', '2000-01-01 10:30:00',\n",
       "               '2000-01-01 12:00:00', '2000-01-01 13:30:00'],\n",
       "              dtype='datetime64[ns]', freq='90T')"
      ]
     },
     "execution_count": 26,
     "metadata": {},
     "output_type": "execute_result"
    }
   ],
   "source": [
    "# 可以传入频率字符串,会被高效地解析为等效的表达式\n",
    "\n",
    "pd.date_range('2000-01-01',periods=10,freq='1h30min')"
   ]
  },
  {
   "cell_type": "code",
   "execution_count": 27,
   "metadata": {},
   "outputs": [],
   "source": [
    "# WOM日期\n",
    "# WOM(Week of Month) 是一种非常实用的频率类"
   ]
  },
  {
   "cell_type": "code",
   "execution_count": 28,
   "metadata": {},
   "outputs": [],
   "source": [
    "# 能使人获得诸如\"每月第3个星期五\"之类的日期\n",
    "rp = pd.date_range('2012-01-01','2012-09-01',\n",
    "                  freq='WOM-3FRI')"
   ]
  },
  {
   "cell_type": "code",
   "execution_count": 29,
   "metadata": {
    "scrolled": true
   },
   "outputs": [
    {
     "data": {
      "text/plain": [
       "DatetimeIndex(['2012-01-20', '2012-02-17', '2012-03-16', '2012-04-20',\n",
       "               '2012-05-18', '2012-06-15', '2012-07-20', '2012-08-17'],\n",
       "              dtype='datetime64[ns]', freq='WOM-3FRI')"
      ]
     },
     "execution_count": 29,
     "metadata": {},
     "output_type": "execute_result"
    }
   ],
   "source": [
    "rp"
   ]
  },
  {
   "cell_type": "code",
   "execution_count": 30,
   "metadata": {},
   "outputs": [
    {
     "data": {
      "text/plain": [
       "[Timestamp('2012-01-20 00:00:00', freq='WOM-3FRI'),\n",
       " Timestamp('2012-02-17 00:00:00', freq='WOM-3FRI'),\n",
       " Timestamp('2012-03-16 00:00:00', freq='WOM-3FRI'),\n",
       " Timestamp('2012-04-20 00:00:00', freq='WOM-3FRI'),\n",
       " Timestamp('2012-05-18 00:00:00', freq='WOM-3FRI'),\n",
       " Timestamp('2012-06-15 00:00:00', freq='WOM-3FRI'),\n",
       " Timestamp('2012-07-20 00:00:00', freq='WOM-3FRI'),\n",
       " Timestamp('2012-08-17 00:00:00', freq='WOM-3FRI')]"
      ]
     },
     "execution_count": 30,
     "metadata": {},
     "output_type": "execute_result"
    }
   ],
   "source": [
    "list(rp)"
   ]
  },
  {
   "cell_type": "code",
   "execution_count": 31,
   "metadata": {},
   "outputs": [],
   "source": [
    "# 移动(超前和滞后)数据\n",
    "# 移动(shifting)是指沿着时间轴将数据前移或后移\n",
    "# Series和DataFrame都有一个shift方法用于执行单纯的前移或后移操作\n",
    "# 保持索引不变"
   ]
  },
  {
   "cell_type": "code",
   "execution_count": 33,
   "metadata": {},
   "outputs": [],
   "source": [
    "ts = pd.Series(np.random.rand(4),\n",
    "              index=pd.date_range('1/1/2000',\n",
    "             periods=4,\n",
    "              freq='M')\n",
    "              )"
   ]
  },
  {
   "cell_type": "code",
   "execution_count": 34,
   "metadata": {},
   "outputs": [
    {
     "data": {
      "text/plain": [
       "2000-01-31    0.844864\n",
       "2000-02-29    0.312263\n",
       "2000-03-31    0.135890\n",
       "2000-04-30    0.257583\n",
       "Freq: M, dtype: float64"
      ]
     },
     "execution_count": 34,
     "metadata": {},
     "output_type": "execute_result"
    }
   ],
   "source": [
    "ts"
   ]
  },
  {
   "cell_type": "code",
   "execution_count": 35,
   "metadata": {},
   "outputs": [
    {
     "data": {
      "text/plain": [
       "2000-01-31         NaN\n",
       "2000-02-29         NaN\n",
       "2000-03-31    0.844864\n",
       "2000-04-30    0.312263\n",
       "Freq: M, dtype: float64"
      ]
     },
     "execution_count": 35,
     "metadata": {},
     "output_type": "execute_result"
    }
   ],
   "source": [
    "ts.shift(2)"
   ]
  },
  {
   "cell_type": "code",
   "execution_count": 36,
   "metadata": {},
   "outputs": [
    {
     "data": {
      "text/plain": [
       "2000-01-31    0.135890\n",
       "2000-02-29    0.257583\n",
       "2000-03-31         NaN\n",
       "2000-04-30         NaN\n",
       "Freq: M, dtype: float64"
      ]
     },
     "execution_count": 36,
     "metadata": {},
     "output_type": "execute_result"
    }
   ],
   "source": [
    "ts.shift(-2)"
   ]
  },
  {
   "cell_type": "code",
   "execution_count": 37,
   "metadata": {},
   "outputs": [],
   "source": [
    "# 单纯的移位操作不会修改索引,所以部分数据会被丢弃\n",
    "# 如果频率已知,可以将其传给shift\n",
    "# 以便实现对时间戳进行位移而不是对数据进行简单位移"
   ]
  },
  {
   "cell_type": "code",
   "execution_count": 38,
   "metadata": {},
   "outputs": [
    {
     "data": {
      "text/plain": [
       "2000-03-31    0.844864\n",
       "2000-04-30    0.312263\n",
       "2000-05-31    0.135890\n",
       "2000-06-30    0.257583\n",
       "Freq: M, dtype: float64"
      ]
     },
     "execution_count": 38,
     "metadata": {},
     "output_type": "execute_result"
    }
   ],
   "source": [
    "ts.shift(2,freq='M')"
   ]
  },
  {
   "cell_type": "code",
   "execution_count": 40,
   "metadata": {},
   "outputs": [
    {
     "data": {
      "text/plain": [
       "2000-02-03    0.844864\n",
       "2000-03-03    0.312263\n",
       "2000-04-03    0.135890\n",
       "2000-05-03    0.257583\n",
       "dtype: float64"
      ]
     },
     "execution_count": 40,
     "metadata": {},
     "output_type": "execute_result"
    }
   ],
   "source": [
    "# 还可以使用其他频率\n",
    "ts.shift(3,freq='D')"
   ]
  },
  {
   "cell_type": "code",
   "execution_count": 41,
   "metadata": {},
   "outputs": [],
   "source": [
    "# 通过偏移量对日期进行位移\n",
    "from pandas.tseries.offsets import Day,MonthEnd"
   ]
  },
  {
   "cell_type": "code",
   "execution_count": 42,
   "metadata": {},
   "outputs": [],
   "source": [
    "now = datetime(2011,11,17)"
   ]
  },
  {
   "cell_type": "code",
   "execution_count": 43,
   "metadata": {},
   "outputs": [
    {
     "data": {
      "text/plain": [
       "Timestamp('2011-11-20 00:00:00')"
      ]
     },
     "execution_count": 43,
     "metadata": {},
     "output_type": "execute_result"
    }
   ],
   "source": [
    "now + 3 * Day()"
   ]
  },
  {
   "cell_type": "code",
   "execution_count": 44,
   "metadata": {},
   "outputs": [],
   "source": [
    "# 如果是锚点偏移量\n",
    "# 第一次增量会将原日期向前滚动到符合频率规则的下一个日期"
   ]
  },
  {
   "cell_type": "code",
   "execution_count": 45,
   "metadata": {},
   "outputs": [
    {
     "data": {
      "text/plain": [
       "Timestamp('2011-11-30 00:00:00')"
      ]
     },
     "execution_count": 45,
     "metadata": {},
     "output_type": "execute_result"
    }
   ],
   "source": [
    "now + MonthEnd()"
   ]
  },
  {
   "cell_type": "code",
   "execution_count": 49,
   "metadata": {},
   "outputs": [
    {
     "data": {
      "text/plain": [
       "Timestamp('2012-01-31 00:00:00')"
      ]
     },
     "execution_count": 49,
     "metadata": {},
     "output_type": "execute_result"
    }
   ],
   "source": [
    "now + MonthEnd(3)"
   ]
  },
  {
   "cell_type": "code",
   "execution_count": 50,
   "metadata": {},
   "outputs": [],
   "source": [
    "# 通过锚点偏移量的rollforward和rollback方法\n",
    "# 可明确地将日期向前或向后\"滚动\""
   ]
  },
  {
   "cell_type": "code",
   "execution_count": 51,
   "metadata": {},
   "outputs": [],
   "source": [
    "offset = MonthEnd()"
   ]
  },
  {
   "cell_type": "code",
   "execution_count": 52,
   "metadata": {},
   "outputs": [
    {
     "data": {
      "text/plain": [
       "Timestamp('2011-11-30 00:00:00')"
      ]
     },
     "execution_count": 52,
     "metadata": {},
     "output_type": "execute_result"
    }
   ],
   "source": [
    "offset.rollforward(now)"
   ]
  },
  {
   "cell_type": "code",
   "execution_count": 53,
   "metadata": {},
   "outputs": [
    {
     "data": {
      "text/plain": [
       "Timestamp('2011-10-31 00:00:00')"
      ]
     },
     "execution_count": 53,
     "metadata": {},
     "output_type": "execute_result"
    }
   ],
   "source": [
    "offset.rollback(now)"
   ]
  },
  {
   "cell_type": "code",
   "execution_count": 54,
   "metadata": {},
   "outputs": [],
   "source": [
    "# 可以结合groupby使用这两个方法"
   ]
  },
  {
   "cell_type": "code",
   "execution_count": 55,
   "metadata": {},
   "outputs": [],
   "source": [
    "ts = pd.Series(np.random.randn(20),\n",
    "              index=pd.date_range('1/15/2000',\n",
    "                                 periods=20,\n",
    "                                 freq='4d'))"
   ]
  },
  {
   "cell_type": "code",
   "execution_count": 56,
   "metadata": {},
   "outputs": [
    {
     "data": {
      "text/plain": [
       "2000-01-15   -1.993633\n",
       "2000-01-19    1.109196\n",
       "2000-01-23    1.845059\n",
       "2000-01-27   -0.703064\n",
       "2000-01-31    0.577575\n",
       "2000-02-04   -0.537869\n",
       "2000-02-08   -0.447070\n",
       "2000-02-12    1.449436\n",
       "2000-02-16   -0.395534\n",
       "2000-02-20   -0.007951\n",
       "2000-02-24   -1.981438\n",
       "2000-02-28   -1.000193\n",
       "2000-03-03   -0.581387\n",
       "2000-03-07    1.531774\n",
       "2000-03-11    0.072676\n",
       "2000-03-15   -1.070163\n",
       "2000-03-19   -0.642569\n",
       "2000-03-23    0.269647\n",
       "2000-03-27    0.288563\n",
       "2000-03-31    0.617788\n",
       "Freq: 4D, dtype: float64"
      ]
     },
     "execution_count": 56,
     "metadata": {},
     "output_type": "execute_result"
    }
   ],
   "source": [
    "ts"
   ]
  },
  {
   "cell_type": "code",
   "execution_count": 58,
   "metadata": {},
   "outputs": [
    {
     "data": {
      "text/plain": [
       "2000-01-31    0.167027\n",
       "2000-02-29   -0.417231\n",
       "2000-03-31    0.060791\n",
       "dtype: float64"
      ]
     },
     "execution_count": 58,
     "metadata": {},
     "output_type": "execute_result"
    }
   ],
   "source": [
    "ts.groupby(offset.rollforward).mean()"
   ]
  },
  {
   "cell_type": "code",
   "execution_count": 59,
   "metadata": {},
   "outputs": [
    {
     "data": {
      "text/plain": [
       "2000-01-31    5\n",
       "2000-02-29    7\n",
       "2000-03-31    8\n",
       "dtype: int64"
      ]
     },
     "execution_count": 59,
     "metadata": {},
     "output_type": "execute_result"
    }
   ],
   "source": [
    "ts.groupby(offset.rollforward).count()"
   ]
  },
  {
   "cell_type": "code",
   "execution_count": 60,
   "metadata": {},
   "outputs": [],
   "source": [
    "# 时区处理"
   ]
  },
  {
   "cell_type": "code",
   "execution_count": 61,
   "metadata": {},
   "outputs": [],
   "source": [
    "import pytz"
   ]
  },
  {
   "cell_type": "code",
   "execution_count": 63,
   "metadata": {},
   "outputs": [
    {
     "data": {
      "text/plain": [
       "['US/Eastern', 'US/Hawaii', 'US/Mountain', 'US/Pacific', 'UTC']"
      ]
     },
     "execution_count": 63,
     "metadata": {},
     "output_type": "execute_result"
    }
   ],
   "source": [
    "pytz.common_timezones[-5:]"
   ]
  },
  {
   "cell_type": "code",
   "execution_count": 64,
   "metadata": {},
   "outputs": [],
   "source": [
    "# 要从pytz中获取时区对象,使用pytz.timezone即可"
   ]
  },
  {
   "cell_type": "code",
   "execution_count": 65,
   "metadata": {},
   "outputs": [],
   "source": [
    "tz = pytz.timezone('America/New_York')"
   ]
  },
  {
   "cell_type": "code",
   "execution_count": 66,
   "metadata": {},
   "outputs": [
    {
     "data": {
      "text/plain": [
       "<DstTzInfo 'America/New_York' LMT-1 day, 19:04:00 STD>"
      ]
     },
     "execution_count": 66,
     "metadata": {},
     "output_type": "execute_result"
    }
   ],
   "source": [
    "tz"
   ]
  },
  {
   "cell_type": "code",
   "execution_count": 67,
   "metadata": {},
   "outputs": [],
   "source": [
    "# 时区本地化和转换\n",
    "# 默认情况下,pandas中的时间序列时单纯的时区\n",
    "\n",
    "rp = pd.date_range('3/9/2012 9:30',periods=6,\n",
    "                  freq='D')\n",
    "\n",
    "ts = pd.Series(np.random.randn(len(rp)),index=rp)"
   ]
  },
  {
   "cell_type": "code",
   "execution_count": 68,
   "metadata": {},
   "outputs": [
    {
     "data": {
      "text/plain": [
       "2012-03-09 09:30:00    1.782704\n",
       "2012-03-10 09:30:00   -0.114553\n",
       "2012-03-11 09:30:00   -1.814228\n",
       "2012-03-12 09:30:00   -0.302412\n",
       "2012-03-13 09:30:00   -0.156169\n",
       "2012-03-14 09:30:00    0.526685\n",
       "Freq: D, dtype: float64"
      ]
     },
     "execution_count": 68,
     "metadata": {},
     "output_type": "execute_result"
    }
   ],
   "source": [
    "ts"
   ]
  },
  {
   "cell_type": "code",
   "execution_count": 69,
   "metadata": {},
   "outputs": [
    {
     "name": "stdout",
     "output_type": "stream",
     "text": [
      "None\n"
     ]
    }
   ],
   "source": [
    "print(ts.index.tz)"
   ]
  },
  {
   "cell_type": "code",
   "execution_count": 70,
   "metadata": {
    "scrolled": true
   },
   "outputs": [
    {
     "data": {
      "text/plain": [
       "DatetimeIndex(['2012-03-09 09:30:00+00:00', '2012-03-10 09:30:00+00:00',\n",
       "               '2012-03-11 09:30:00+00:00', '2012-03-12 09:30:00+00:00',\n",
       "               '2012-03-13 09:30:00+00:00', '2012-03-14 09:30:00+00:00',\n",
       "               '2012-03-15 09:30:00+00:00', '2012-03-16 09:30:00+00:00',\n",
       "               '2012-03-17 09:30:00+00:00', '2012-03-18 09:30:00+00:00'],\n",
       "              dtype='datetime64[ns, UTC]', freq='D')"
      ]
     },
     "execution_count": 70,
     "metadata": {},
     "output_type": "execute_result"
    }
   ],
   "source": [
    "# 可以用时区集生成日期范围\n",
    "pd.date_range('3/9/2012 9:30',\n",
    "             periods=10,\n",
    "             freq='D',\n",
    "             tz='UTC')"
   ]
  },
  {
   "cell_type": "code",
   "execution_count": 71,
   "metadata": {},
   "outputs": [],
   "source": [
    "# 本地化的转换是通过tz_localize方法处理的"
   ]
  },
  {
   "cell_type": "code",
   "execution_count": 72,
   "metadata": {},
   "outputs": [],
   "source": [
    "ts_utc = ts.tz_localize('UTC')"
   ]
  },
  {
   "cell_type": "code",
   "execution_count": 73,
   "metadata": {},
   "outputs": [
    {
     "data": {
      "text/plain": [
       "2012-03-09 09:30:00+00:00    1.782704\n",
       "2012-03-10 09:30:00+00:00   -0.114553\n",
       "2012-03-11 09:30:00+00:00   -1.814228\n",
       "2012-03-12 09:30:00+00:00   -0.302412\n",
       "2012-03-13 09:30:00+00:00   -0.156169\n",
       "2012-03-14 09:30:00+00:00    0.526685\n",
       "Freq: D, dtype: float64"
      ]
     },
     "execution_count": 73,
     "metadata": {},
     "output_type": "execute_result"
    }
   ],
   "source": [
    "ts_utc"
   ]
  },
  {
   "cell_type": "code",
   "execution_count": 74,
   "metadata": {},
   "outputs": [],
   "source": [
    "# 一旦时间序列被本地化到某个特定的时区\n",
    "# 可以用tz_convert将其转换到别的时区了"
   ]
  },
  {
   "cell_type": "code",
   "execution_count": 75,
   "metadata": {},
   "outputs": [
    {
     "data": {
      "text/plain": [
       "2012-03-09 04:30:00-05:00    1.782704\n",
       "2012-03-10 04:30:00-05:00   -0.114553\n",
       "2012-03-11 05:30:00-04:00   -1.814228\n",
       "2012-03-12 05:30:00-04:00   -0.302412\n",
       "2012-03-13 05:30:00-04:00   -0.156169\n",
       "2012-03-14 05:30:00-04:00    0.526685\n",
       "Freq: D, dtype: float64"
      ]
     },
     "execution_count": 75,
     "metadata": {},
     "output_type": "execute_result"
    }
   ],
   "source": [
    "ts_utc.tz_convert('America/New_York')"
   ]
  },
  {
   "cell_type": "code",
   "execution_count": 85,
   "metadata": {},
   "outputs": [],
   "source": [
    "# 不同时区之间的运算\n",
    "# 如果两个时间序列的时区不同,将它们合并到一起时,最终结果就是UTC\n",
    "# 由于时间戳是以UTC存储的\n",
    "# 所以是一个很简单的运算,不需要发生任何转换"
   ]
  },
  {
   "cell_type": "code",
   "execution_count": 77,
   "metadata": {},
   "outputs": [],
   "source": [
    "rp = pd.date_range('3/7/2012 9:30',periods=10,freq='B')"
   ]
  },
  {
   "cell_type": "code",
   "execution_count": 78,
   "metadata": {},
   "outputs": [],
   "source": [
    "ts = pd.Series(np.random.randn(len(rp)),index=rp)"
   ]
  },
  {
   "cell_type": "code",
   "execution_count": 79,
   "metadata": {},
   "outputs": [
    {
     "data": {
      "text/plain": [
       "2012-03-07 09:30:00   -1.125739\n",
       "2012-03-08 09:30:00   -1.665717\n",
       "2012-03-09 09:30:00    0.954989\n",
       "2012-03-12 09:30:00   -0.267224\n",
       "2012-03-13 09:30:00    0.651897\n",
       "2012-03-14 09:30:00   -0.220336\n",
       "2012-03-15 09:30:00    0.156024\n",
       "2012-03-16 09:30:00    0.711165\n",
       "2012-03-19 09:30:00    0.266864\n",
       "2012-03-20 09:30:00    0.940540\n",
       "Freq: B, dtype: float64"
      ]
     },
     "execution_count": 79,
     "metadata": {},
     "output_type": "execute_result"
    }
   ],
   "source": [
    "ts"
   ]
  },
  {
   "cell_type": "code",
   "execution_count": 80,
   "metadata": {},
   "outputs": [],
   "source": [
    "ts1 = ts[:7].tz_localize('Europe/London')\n",
    "ts2 = ts1[2:].tz_convert('Europe/Moscow')"
   ]
  },
  {
   "cell_type": "code",
   "execution_count": 81,
   "metadata": {},
   "outputs": [
    {
     "data": {
      "text/plain": [
       "2012-03-07 09:30:00+00:00   -1.125739\n",
       "2012-03-08 09:30:00+00:00   -1.665717\n",
       "2012-03-09 09:30:00+00:00    0.954989\n",
       "2012-03-12 09:30:00+00:00   -0.267224\n",
       "2012-03-13 09:30:00+00:00    0.651897\n",
       "2012-03-14 09:30:00+00:00   -0.220336\n",
       "2012-03-15 09:30:00+00:00    0.156024\n",
       "Freq: B, dtype: float64"
      ]
     },
     "execution_count": 81,
     "metadata": {},
     "output_type": "execute_result"
    }
   ],
   "source": [
    "ts1"
   ]
  },
  {
   "cell_type": "code",
   "execution_count": 82,
   "metadata": {},
   "outputs": [
    {
     "data": {
      "text/plain": [
       "2012-03-09 13:30:00+04:00    0.954989\n",
       "2012-03-12 13:30:00+04:00   -0.267224\n",
       "2012-03-13 13:30:00+04:00    0.651897\n",
       "2012-03-14 13:30:00+04:00   -0.220336\n",
       "2012-03-15 13:30:00+04:00    0.156024\n",
       "Freq: B, dtype: float64"
      ]
     },
     "execution_count": 82,
     "metadata": {},
     "output_type": "execute_result"
    }
   ],
   "source": [
    "ts2"
   ]
  },
  {
   "cell_type": "code",
   "execution_count": 83,
   "metadata": {},
   "outputs": [],
   "source": [
    "resule = ts1 +ts2"
   ]
  },
  {
   "cell_type": "code",
   "execution_count": 84,
   "metadata": {},
   "outputs": [
    {
     "data": {
      "text/plain": [
       "2012-03-07 09:30:00+00:00         NaN\n",
       "2012-03-08 09:30:00+00:00         NaN\n",
       "2012-03-09 09:30:00+00:00    1.909979\n",
       "2012-03-12 09:30:00+00:00   -0.534449\n",
       "2012-03-13 09:30:00+00:00    1.303794\n",
       "2012-03-14 09:30:00+00:00   -0.440672\n",
       "2012-03-15 09:30:00+00:00    0.312049\n",
       "Freq: B, dtype: float64"
      ]
     },
     "execution_count": 84,
     "metadata": {},
     "output_type": "execute_result"
    }
   ],
   "source": [
    "resule"
   ]
  },
  {
   "cell_type": "code",
   "execution_count": 86,
   "metadata": {},
   "outputs": [
    {
     "data": {
      "text/plain": [
       "DatetimeIndex(['2012-03-07 09:30:00+00:00', '2012-03-08 09:30:00+00:00',\n",
       "               '2012-03-09 09:30:00+00:00', '2012-03-12 09:30:00+00:00',\n",
       "               '2012-03-13 09:30:00+00:00', '2012-03-14 09:30:00+00:00',\n",
       "               '2012-03-15 09:30:00+00:00'],\n",
       "              dtype='datetime64[ns, UTC]', freq='B')"
      ]
     },
     "execution_count": 86,
     "metadata": {},
     "output_type": "execute_result"
    }
   ],
   "source": [
    "resule.index"
   ]
  },
  {
   "cell_type": "code",
   "execution_count": null,
   "metadata": {},
   "outputs": [],
   "source": []
  },
  {
   "cell_type": "code",
   "execution_count": null,
   "metadata": {},
   "outputs": [],
   "source": []
  },
  {
   "cell_type": "code",
   "execution_count": null,
   "metadata": {},
   "outputs": [],
   "source": []
  },
  {
   "cell_type": "code",
   "execution_count": null,
   "metadata": {},
   "outputs": [],
   "source": []
  }
 ],
 "metadata": {
  "kernelspec": {
   "display_name": "Python 3",
   "language": "python",
   "name": "python3"
  },
  "language_info": {
   "codemirror_mode": {
    "name": "ipython",
    "version": 3
   },
   "file_extension": ".py",
   "mimetype": "text/x-python",
   "name": "python",
   "nbconvert_exporter": "python",
   "pygments_lexer": "ipython3",
   "version": "3.7.0"
  }
 },
 "nbformat": 4,
 "nbformat_minor": 2
}
